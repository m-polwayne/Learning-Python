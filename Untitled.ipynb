{
 "cells": [
  {
   "cell_type": "code",
   "execution_count": 1,
   "id": "fc1e1ce2-871b-4519-b33c-668e672763ce",
   "metadata": {},
   "outputs": [
    {
     "name": "stdout",
     "output_type": "stream",
     "text": [
      "362880\n"
     ]
    },
    {
     "data": {
      "text/plain": [
       "362880"
      ]
     },
     "execution_count": 1,
     "metadata": {},
     "output_type": "execute_result"
    }
   ],
   "source": [
    "def factorial(n):\n",
    "    f=n;\n",
    "    if type(n)!= int:\n",
    "        print('n is not an interger');\n",
    "    elif n<0:\n",
    "        print('n cannot be a negative number'); \n",
    "    elif type(n)==float :\n",
    "        print('n must be an interger');\n",
    "    else:\n",
    "        while n > 1:\n",
    "            f=f*(n-1);\n",
    "            n=n-1;\n",
    "        print(f);\n",
    "    return f;\n",
    "\n",
    "factorial(9)\n"
   ]
  },
  {
   "cell_type": "code",
   "execution_count": null,
   "id": "ae0994c3-809d-4dda-9214-58475804dcd4",
   "metadata": {},
   "outputs": [],
   "source": []
  }
 ],
 "metadata": {
  "kernelspec": {
   "display_name": "Python 3 (ipykernel)",
   "language": "python",
   "name": "python3"
  },
  "language_info": {
   "codemirror_mode": {
    "name": "ipython",
    "version": 3
   },
   "file_extension": ".py",
   "mimetype": "text/x-python",
   "name": "python",
   "nbconvert_exporter": "python",
   "pygments_lexer": "ipython3",
   "version": "3.12.2"
  }
 },
 "nbformat": 4,
 "nbformat_minor": 5
}
